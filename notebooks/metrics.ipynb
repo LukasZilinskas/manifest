{
 "cells": [
  {
   "cell_type": "code",
   "execution_count": 1,
   "metadata": {},
   "outputs": [
    {
     "name": "stdout",
     "output_type": "stream",
     "text": [
      "Populating the interactive namespace from numpy and matplotlib\n"
     ]
    }
   ],
   "source": [
    "%pylab inline"
   ]
  },
  {
   "cell_type": "code",
   "execution_count": 2,
   "metadata": {},
   "outputs": [],
   "source": [
    "import sys\n",
    "import pandas as pd\n",
    "from pathlib import Path\n",
    "from admanifest.manifest import load_manifest_data\n",
    "\n",
    "rc('font', family='sans-serif', size=16)\n",
    "rc('axes', grid=True)\n",
    "rc('figure', figsize=(16, 8))"
   ]
  },
  {
   "cell_type": "code",
   "execution_count": 3,
   "metadata": {},
   "outputs": [],
   "source": [
    "def find_datasets(manifest, obj_name, prop_name):\n",
    "    for dataset in manifest.objects['dataset'].values():\n",
    "        if obj_name in dataset['objects'] and prop_name in dataset['objects'][obj_name]['properties']:\n",
    "            yield dataset, dataset['objects'][obj_name]['properties'][prop_name]\n",
    "            \n",
    "def load_manifest_and_check_errors():\n",
    "    here = Path('..').resolve()\n",
    "    manifest = load_manifest_data(here)\n",
    "    if manifest.errors:\n",
    "        for error in manifest.errors:\n",
    "            print(error, file=sys.stderr)\n",
    "    return manifest"
   ]
  },
  {
   "cell_type": "code",
   "execution_count": 4,
   "metadata": {},
   "outputs": [
    {
     "data": {
      "text/html": [
       "<div>\n",
       "<style scoped>\n",
       "    .dataframe tbody tr th:only-of-type {\n",
       "        vertical-align: middle;\n",
       "    }\n",
       "\n",
       "    .dataframe tbody tr th {\n",
       "        vertical-align: top;\n",
       "    }\n",
       "\n",
       "    .dataframe thead th {\n",
       "        text-align: right;\n",
       "    }\n",
       "</style>\n",
       "<table border=\"1\" class=\"dataframe\">\n",
       "  <thead>\n",
       "    <tr style=\"text-align: right;\">\n",
       "      <th></th>\n",
       "      <th>dataset</th>\n",
       "      <th>object</th>\n",
       "      <th>project</th>\n",
       "      <th>property</th>\n",
       "      <th>provider</th>\n",
       "      <th>stars</th>\n",
       "      <th>users</th>\n",
       "    </tr>\n",
       "  </thead>\n",
       "  <tbody>\n",
       "    <tr>\n",
       "      <th>0</th>\n",
       "      <td>gov/lrs/ad</td>\n",
       "      <td>politika/seimas/seimo_narys</td>\n",
       "      <td>projects/manopozicija.lt</td>\n",
       "      <td>vardas</td>\n",
       "      <td>gov/lrs</td>\n",
       "      <td>3</td>\n",
       "      <td>8.000000</td>\n",
       "    </tr>\n",
       "    <tr>\n",
       "      <th>1</th>\n",
       "      <td>gov/lrs/ad</td>\n",
       "      <td>politika/seimas/seimo_narys</td>\n",
       "      <td>projects/manopozicija.lt</td>\n",
       "      <td>pavardė</td>\n",
       "      <td>gov/lrs</td>\n",
       "      <td>3</td>\n",
       "      <td>8.000000</td>\n",
       "    </tr>\n",
       "    <tr>\n",
       "      <th>2</th>\n",
       "      <td>gov/lrs/ad</td>\n",
       "      <td>politika/seimas/seimo_narys</td>\n",
       "      <td>projects/manoseimas.lt</td>\n",
       "      <td>vardas</td>\n",
       "      <td>gov/lrs</td>\n",
       "      <td>3</td>\n",
       "      <td>19607.285714</td>\n",
       "    </tr>\n",
       "    <tr>\n",
       "      <th>3</th>\n",
       "      <td>gov/lrs/ad</td>\n",
       "      <td>politika/seimas/seimo_narys</td>\n",
       "      <td>projects/manoseimas.lt</td>\n",
       "      <td>pavardė</td>\n",
       "      <td>gov/lrs</td>\n",
       "      <td>3</td>\n",
       "      <td>19607.285714</td>\n",
       "    </tr>\n",
       "    <tr>\n",
       "      <th>4</th>\n",
       "      <td>None</td>\n",
       "      <td>politika/seimas/seimo_narys</td>\n",
       "      <td>projects/manoseimas.lt</td>\n",
       "      <td>gimimo_data</td>\n",
       "      <td>None</td>\n",
       "      <td>0</td>\n",
       "      <td>19607.285714</td>\n",
       "    </tr>\n",
       "  </tbody>\n",
       "</table>\n",
       "</div>"
      ],
      "text/plain": [
       "      dataset                       object                   project  \\\n",
       "0  gov/lrs/ad  politika/seimas/seimo_narys  projects/manopozicija.lt   \n",
       "1  gov/lrs/ad  politika/seimas/seimo_narys  projects/manopozicija.lt   \n",
       "2  gov/lrs/ad  politika/seimas/seimo_narys    projects/manoseimas.lt   \n",
       "3  gov/lrs/ad  politika/seimas/seimo_narys    projects/manoseimas.lt   \n",
       "4        None  politika/seimas/seimo_narys    projects/manoseimas.lt   \n",
       "\n",
       "      property provider  stars         users  \n",
       "0       vardas  gov/lrs      3      8.000000  \n",
       "1      pavardė  gov/lrs      3      8.000000  \n",
       "2       vardas  gov/lrs      3  19607.285714  \n",
       "3      pavardė  gov/lrs      3  19607.285714  \n",
       "4  gimimo_data     None      0  19607.285714"
      ]
     },
     "execution_count": 4,
     "metadata": {},
     "output_type": "execute_result"
    }
   ],
   "source": [
    "manifest = load_manifest_and_check_errors()\n",
    "\n",
    "def table():\n",
    "    for project in manifest.objects['project'].values():\n",
    "        users = [x['users'] for x in project.get('impact', [])]\n",
    "        users = mean(users) if users else None\n",
    "        for obj_name, obj in project['objects'].items():\n",
    "            for prop_name, prop in obj['properties'].items():\n",
    "                datasets = list(find_datasets(manifest, obj_name, prop_name))\n",
    "                datasets = sorted(datasets, key=lambda x: x[1]['stars'])\n",
    "                if datasets:\n",
    "                    dataset, dataset_prop = datasets[-1]\n",
    "                    dataset = {\n",
    "                        'id': dataset['id'],\n",
    "                        'stars': dataset_prop['stars'],\n",
    "                        'provider': dataset['provider'],\n",
    "                    }\n",
    "                else:\n",
    "                    dataset = {'id': None, 'stars': 0, 'provider': None}\n",
    "                    \n",
    "                yield {\n",
    "                    'project': project['id'],\n",
    "                    'object': obj_name,\n",
    "                    'property': prop_name,\n",
    "                    'dataset': dataset['id'],\n",
    "                    'provider': dataset['provider'],\n",
    "                    'stars': dataset['stars'],\n",
    "                    'users': users,\n",
    "                }\n",
    "                    \n",
    "frame = pd.DataFrame(list(table()))\n",
    "frame.head()"
   ]
  },
  {
   "cell_type": "markdown",
   "metadata": {},
   "source": [
    "## Vidutinis projektams prieinamų duomenų brandos lygis\n",
    "\n",
    "Vidutinis brandos lygis apskaičiuojamas surandant duomenų tiekėją teikiantį duomenis aukščiausiu brandos lygiu ir paskaičiuojant visų laukų brandos lygio vidurkį."
   ]
  },
  {
   "cell_type": "code",
   "execution_count": 5,
   "metadata": {},
   "outputs": [
    {
     "data": {
      "image/png": "[encoded data removed]",
      "text/plain": [
       "<Figure size 1152x288 with 1 Axes>"
      ]
     },
     "metadata": {
      "needs_background": "light"
     },
     "output_type": "display_data"
    }
   ],
   "source": [
    "frame.groupby('project').stars.mean().plot.barh(figsize=(16, 4));"
   ]
  },
  {
   "cell_type": "markdown",
   "metadata": {},
   "source": [
    "## Projektai pagal vidutinį naudotojų skaičių"
   ]
  },
  {
   "cell_type": "code",
   "execution_count": 6,
   "metadata": {},
   "outputs": [
    {
     "data": {
      "image/png": "[encoded data removed]",
      "text/plain": [
       "<Figure size 1152x288 with 1 Axes>"
      ]
     },
     "metadata": {
      "needs_background": "light"
     },
     "output_type": "display_data"
    }
   ],
   "source": [
    "frame.groupby('project').users.first().plot.barh(figsize=(16, 4));"
   ]
  },
  {
   "cell_type": "markdown",
   "metadata": {},
   "source": [
    "## Prioritetinių duomenų rinkinių sąrašas\n",
    "\n",
    "Prioritetinių duomenų rinkinių sąrašas apskaičiuotas imant duomenų brandos lygio vidurkį visų laukų, kurie reikalingi projektams ir tą duomenų rinkinį naudojančių bendra projekto naudotojų sumą. Galutiniai rezultatai surūšiuoti pagal brandos lygi didėjančia tvarka ir pagal projektų naudotojų skaičių mažėjančia tvarka."
   ]
  },
  {
   "cell_type": "code",
   "execution_count": 7,
   "metadata": {},
   "outputs": [
    {
     "data": {
      "text/html": [
       "<div>\n",
       "<style scoped>\n",
       "    .dataframe tbody tr th:only-of-type {\n",
       "        vertical-align: middle;\n",
       "    }\n",
       "\n",
       "    .dataframe tbody tr th {\n",
       "        vertical-align: top;\n",
       "    }\n",
       "\n",
       "    .dataframe thead th {\n",
       "        text-align: right;\n",
       "    }\n",
       "</style>\n",
       "<table border=\"1\" class=\"dataframe\">\n",
       "  <thead>\n",
       "    <tr style=\"text-align: right;\">\n",
       "      <th></th>\n",
       "      <th>stars</th>\n",
       "      <th>users</th>\n",
       "    </tr>\n",
       "    <tr>\n",
       "      <th>dataset</th>\n",
       "      <th></th>\n",
       "      <th></th>\n",
       "    </tr>\n",
       "  </thead>\n",
       "  <tbody>\n",
       "    <tr>\n",
       "      <th>gov/lrs/ad</th>\n",
       "      <td>3</td>\n",
       "      <td>19615.285714</td>\n",
       "    </tr>\n",
       "  </tbody>\n",
       "</table>\n",
       "</div>"
      ],
      "text/plain": [
       "            stars         users\n",
       "dataset                        \n",
       "gov/lrs/ad      3  19615.285714"
      ]
     },
     "execution_count": 7,
     "metadata": {},
     "output_type": "execute_result"
    }
   ],
   "source": [
    "frame.dropna(subset=['dataset']).groupby(['dataset', 'project']).agg({\n",
    "    'stars': 'mean',\n",
    "    'users': 'first',\n",
    "}).groupby(level=0).agg({\n",
    "    'stars': 'mean',\n",
    "    'users': 'sum',\n",
    "}).sort_values(['stars', 'users'], ascending=[True, False])"
   ]
  },
  {
   "cell_type": "markdown",
   "metadata": {},
   "source": [
    "## Duomenų rinkiniai pagal brandos lygį"
   ]
  },
  {
   "cell_type": "code",
   "execution_count": 8,
   "metadata": {},
   "outputs": [
    {
     "data": {
      "image/png": "[encoded data removed]",
      "text/plain": [
       "<Figure size 1152x144 with 1 Axes>"
      ]
     },
     "metadata": {
      "needs_background": "light"
     },
     "output_type": "display_data"
    }
   ],
   "source": [
    "frame.dropna(subset=['dataset']).groupby('dataset').stars.mean().plot.barh(figsize=(16, 2));"
   ]
  },
  {
   "cell_type": "markdown",
   "metadata": {},
   "source": [
    "## Duomenų tiekėjai pagal projektams reikalingų duomenų laukų skaičių"
   ]
  },
  {
   "cell_type": "code",
   "execution_count": 9,
   "metadata": {},
   "outputs": [
    {
     "data": {
      "image/png": "[encoded data removed]",
      "text/plain": [
       "<Figure size 1152x144 with 1 Axes>"
      ]
     },
     "metadata": {
      "needs_background": "light"
     },
     "output_type": "display_data"
    }
   ],
   "source": [
    "frame.dropna(subset=['provider']).groupby('provider').property.count().plot.barh(figsize=(16, 2));"
   ]
  },
  {
   "cell_type": "markdown",
   "metadata": {},
   "source": [
    "## Duomenų tiekėjai pagal duomenų brandos lygį"
   ]
  },
  {
   "cell_type": "code",
   "execution_count": 10,
   "metadata": {},
   "outputs": [
    {
     "data": {
      "image/png": "[encoded data removed]",
      "text/plain": [
       "<Figure size 1152x144 with 1 Axes>"
      ]
     },
     "metadata": {
      "needs_background": "light"
     },
     "output_type": "display_data"
    }
   ],
   "source": [
    "frame.dropna(subset=['provider']).groupby('provider').stars.mean().plot.barh(figsize=(16, 2));"
   ]
  },
  {
   "cell_type": "code",
   "execution_count": null,
   "metadata": {},
   "outputs": [],
   "source": []
  }
 ],
 "metadata": {
  "kernelspec": {
   "display_name": "Python 3",
   "language": "python",
   "name": "python3"
  },
  "language_info": {
   "codemirror_mode": {
    "name": "ipython",
    "version": 3
   },
   "file_extension": ".py",
   "mimetype": "text/x-python",
   "name": "python",
   "nbconvert_exporter": "python",
   "pygments_lexer": "ipython3",
   "version": "3.7.1"
  }
 },
 "nbformat": 4,
 "nbformat_minor": 2
}
